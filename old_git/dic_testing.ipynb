{
 "cells": [
  {
   "cell_type": "code",
   "execution_count": 1,
   "id": "4cf8aadc",
   "metadata": {},
   "outputs": [
    {
     "name": "stdout",
     "output_type": "stream",
     "text": [
      "pygame 2.6.1 (SDL 2.28.4, Python 3.11.11)\n",
      "Hello from the pygame community. https://www.pygame.org/contribute.html\n"
     ]
    }
   ],
   "source": [
    "import random\n",
    "import datetime\n",
    "import pygame\n",
    "import numpy as np\n",
    "from collections import defaultdict\n",
    "from tqdm import trange\n",
    "from pathlib import Path\n",
    "from warnings import warn\n",
    "from time import time, sleep\n",
    "from datetime import datetime\n",
    "from map import Map\n",
    "from robot import Robot\n",
    "from environment import Environment\n",
    "import json"
   ]
  },
  {
   "cell_type": "code",
   "execution_count": 7,
   "id": "4e3e2d2c",
   "metadata": {},
   "outputs": [],
   "source": [
    "map_1 = {\n",
    "  \"map_name\": \"city_block_01\",\n",
    "  \"map_size\": [800, 600],\n",
    "  \"obstacles\": [\n",
    "    { \"x\": 150, \"y\": 150, \"width\": 500, \"height\": 100 },\n",
    "    { \"x\": 150, \"y\": 400, \"width\": 500, \"height\": 100 }\n",
    "  ],\n",
    "  \"targets\": [\n",
    "    [700,50],\n",
    "    [400,300],\n",
    "    [50,550],\n",
    "    [50,50]\n",
    "  ]\n",
    "}\n",
    "\n",
    "with open('map1.json', \"w\") as f:\n",
    "  json.dump(map_1, f)\n"
   ]
  },
  {
   "cell_type": "code",
   "execution_count": 3,
   "id": "c2b5f071",
   "metadata": {},
   "outputs": [],
   "source": [
    "env = Environment(\"map1.json\", agent_start_pos = (50,50))"
   ]
  },
  {
   "cell_type": "code",
   "execution_count": 5,
   "id": "f980e581",
   "metadata": {},
   "outputs": [],
   "source": [
    "pygame.init()\n",
    "screen_size = env.map.map_size\n",
    "screen = pygame.display.set_mode(screen_size)\n",
    "pygame.display.set_caption(\"Random Map Test\")\n",
    "\n",
    "# Draw the map\n",
    "screen.fill((30, 30, 30))  # Background color\n",
    "\n",
    "for obstacle in env.map.obstacles:\n",
    "    pygame.draw.rect(screen, (200, 0, 0), obstacle.rect)\n",
    "\n",
    "pygame.display.flip()\n",
    "\n",
    "# Keep the window open for 5 seconds\n",
    "pygame.time.wait(5000)\n",
    "pygame.quit()"
   ]
  }
 ],
 "metadata": {
  "kernelspec": {
   "display_name": "dic2025",
   "language": "python",
   "name": "python3"
  },
  "language_info": {
   "codemirror_mode": {
    "name": "ipython",
    "version": 3
   },
   "file_extension": ".py",
   "mimetype": "text/x-python",
   "name": "python",
   "nbconvert_exporter": "python",
   "pygments_lexer": "ipython3",
   "version": "3.11.11"
  }
 },
 "nbformat": 4,
 "nbformat_minor": 5
}
